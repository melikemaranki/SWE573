{
 "cells": [
  {
   "cell_type": "code",
   "execution_count": 2,
   "metadata": {},
   "outputs": [
    {
     "name": "stdout",
     "output_type": "stream",
     "text": [
      "@nypost makes sense, Dr.Fauci who led President Trumps covid response team which the mainstream media called a tota… https://t.co/JmviFmfH2g\n",
      "Apparently brain dead tweets by jokers are not going down. With almost no international travel, the southern hemisp… https://t.co/GL0OJRPKfU\n",
      "@liberal_party From columnist Andrew Coyne “It isn’t only the United States, Germany &amp; the U.K. we’re behind, after… https://t.co/8lMP88KUqH\n",
      "Password leak exposes millions of Covid-19 patients in Brazil https://t.co/ldVpwP9MKl\n",
      "So apparently \"(1)Spread Covid to clients. (2) Get closed down by the Gov/Police for Health reasons. (3) Rake in do… https://t.co/9Iu6b3V573\n",
      "@CutieNamedKitty Some of these females are better off getting covid than raising a child.\n",
      "Fuck covid for preventing Saoirse meeting David Walliams #LateLateToyShow\n",
      "@JustinBrannan And still no covid relief package....... USA! USA! USA! We're no.1!!! \n",
      "Corruption all around me caus… https://t.co/7Ezk3p3xdq\n",
      "Blinding lights will always be the covid lockdown song #LateLateToyShow\n",
      "@AMIAnet The so-called new normal, in which Boris Johnson dictates how many humans you can peacefully interact with… https://t.co/tmOwslfzhg\n",
      "@stephenlautens @Scribulatora Vaccines have become the \"look, shiny thing!\" currently useful to divert scrutiny fro… https://t.co/5pSU6ZH7KG\n",
      "Only if we knew today the scientific &amp; data agg flaws we will in hindsight \n",
      "\n",
      "- inflated # of asymptomatic cases tha… https://t.co/RQoGlZNffl\n",
      "@seanhannity I heard it' was the biggest travel since start of covid-19\n",
      "@liamtho14788967 Haha cant, getting over covid\n",
      "@hedgehog_farm @MikeWiesmeier @5Agenda21 @10DowningStreet Covid-19 has nothing to do with the flu.\n"
     ]
    }
   ],
   "source": [
    "# Import package\n",
    "import json\n",
    "import tweepy\n",
    "import myCredentials as my\n",
    "\n",
    "# Pass OAuth details to tweepy's OAuth handler\n",
    "auth = tweepy.OAuthHandler(my.consumer_key, my.consumer_secret)\n",
    "auth.set_access_token(my.access_token, my.access_token_secret)\n",
    "\n",
    "api = tweepy.API(auth)\n",
    "\n",
    "##public_tweets = api.home_timeline()\n",
    "search = api.search(\"covid\"+\" -filter:retweets\", lang = 'en')\n",
    "for tweet in search:\n",
    " print(tweet.text)"
   ]
  },
  {
   "cell_type": "code",
   "execution_count": 8,
   "metadata": {},
   "outputs": [
    {
     "data": {
      "text/plain": [
       "{'hashtags': [],\n",
       " 'symbols': [],\n",
       " 'user_mentions': [],\n",
       " 'urls': [{'url': 'https://t.co/jnsQRO0thk',\n",
       "   'expanded_url': 'https://twitter.com/i/web/status/1328455348559114240',\n",
       "   'display_url': 'twitter.com/i/web/status/1…',\n",
       "   'indices': [117, 140]}]}"
      ]
     },
     "execution_count": 8,
     "metadata": {},
     "output_type": "execute_result"
    }
   ],
   "source": [
    "tweet.entities"
   ]
  },
  {
   "cell_type": "code",
   "execution_count": 9,
   "metadata": {},
   "outputs": [],
   "source": [
    "import pandas as pd\n",
    "df = pd.DataFrame(data = tweet._json)"
   ]
  },
  {
   "cell_type": "code",
   "execution_count": 11,
   "metadata": {},
   "outputs": [
    {
     "data": {
      "text/html": [
       "<div>\n",
       "<style scoped>\n",
       "    .dataframe tbody tr th:only-of-type {\n",
       "        vertical-align: middle;\n",
       "    }\n",
       "\n",
       "    .dataframe tbody tr th {\n",
       "        vertical-align: top;\n",
       "    }\n",
       "\n",
       "    .dataframe thead th {\n",
       "        text-align: right;\n",
       "    }\n",
       "</style>\n",
       "<table border=\"1\" class=\"dataframe\">\n",
       "  <thead>\n",
       "    <tr style=\"text-align: right;\">\n",
       "      <th></th>\n",
       "      <th>user</th>\n",
       "      <th>text</th>\n",
       "    </tr>\n",
       "  </thead>\n",
       "  <tbody>\n",
       "    <tr>\n",
       "      <th>hashtags</th>\n",
       "      <td>NaN</td>\n",
       "      <td>I have an idea. As we all know freedom isn’t f...</td>\n",
       "    </tr>\n",
       "    <tr>\n",
       "      <th>symbols</th>\n",
       "      <td>NaN</td>\n",
       "      <td>I have an idea. As we all know freedom isn’t f...</td>\n",
       "    </tr>\n",
       "    <tr>\n",
       "      <th>user_mentions</th>\n",
       "      <td>NaN</td>\n",
       "      <td>I have an idea. As we all know freedom isn’t f...</td>\n",
       "    </tr>\n",
       "    <tr>\n",
       "      <th>urls</th>\n",
       "      <td>NaN</td>\n",
       "      <td>I have an idea. As we all know freedom isn’t f...</td>\n",
       "    </tr>\n",
       "    <tr>\n",
       "      <th>iso_language_code</th>\n",
       "      <td>NaN</td>\n",
       "      <td>I have an idea. As we all know freedom isn’t f...</td>\n",
       "    </tr>\n",
       "  </tbody>\n",
       "</table>\n",
       "</div>"
      ],
      "text/plain": [
       "                  user                                               text\n",
       "hashtags           NaN  I have an idea. As we all know freedom isn’t f...\n",
       "symbols            NaN  I have an idea. As we all know freedom isn’t f...\n",
       "user_mentions      NaN  I have an idea. As we all know freedom isn’t f...\n",
       "urls               NaN  I have an idea. As we all know freedom isn’t f...\n",
       "iso_language_code  NaN  I have an idea. As we all know freedom isn’t f..."
      ]
     },
     "execution_count": 11,
     "metadata": {},
     "output_type": "execute_result"
    }
   ],
   "source": [
    "df[['user','text']].head()"
   ]
  },
  {
   "cell_type": "code",
   "execution_count": 5,
   "metadata": {},
   "outputs": [
    {
     "data": {
      "text/plain": [
       "Index(['created_at', 'id', 'id_str', 'text', 'truncated', 'entities',\n",
       "       'metadata', 'source', 'in_reply_to_status_id',\n",
       "       'in_reply_to_status_id_str', 'in_reply_to_user_id',\n",
       "       'in_reply_to_user_id_str', 'in_reply_to_screen_name', 'user', 'geo',\n",
       "       'coordinates', 'place', 'contributors', 'retweeted_status',\n",
       "       'is_quote_status', 'retweet_count', 'favorite_count', 'favorited',\n",
       "       'retweeted', 'lang'],\n",
       "      dtype='object')"
      ]
     },
     "execution_count": 5,
     "metadata": {},
     "output_type": "execute_result"
    }
   ],
   "source": [
    "df.columns"
   ]
  },
  {
   "cell_type": "code",
   "execution_count": null,
   "metadata": {},
   "outputs": [],
   "source": []
  }
 ],
 "metadata": {
  "kernelspec": {
   "display_name": "Python 3",
   "language": "python",
   "name": "python3"
  },
  "language_info": {
   "codemirror_mode": {
    "name": "ipython",
    "version": 3
   },
   "file_extension": ".py",
   "mimetype": "text/x-python",
   "name": "python",
   "nbconvert_exporter": "python",
   "pygments_lexer": "ipython3",
   "version": "3.6.9"
  }
 },
 "nbformat": 4,
 "nbformat_minor": 4
}
